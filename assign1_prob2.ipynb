{
 "cells": [
  {
   "cell_type": "code",
   "execution_count": null,
   "metadata": {},
   "outputs": [],
   "source": [
    "import math\n",
    "import numpy as np\n",
    "import matplotlib.pyplot as plt\n",
    "import pandas as pd\n",
    "plt.rcParams['figure.figsize']=(7,7)\n",
    "plt.rcParams.update({'font.size': 11})\n",
    "# %config InlineBackend.close_figures=False # keep figures open in pyplot"
   ]
  },
  {
   "cell_type": "markdown",
   "metadata": {},
   "source": [
    "## Plotting the function\n",
    "$$ y\\ =\\ \\frac{1}{15}\\sum_{k=0}^{n}\\left(-1\\right)^{k}\\left(\\frac{\\left(2n+1\\right)!}{\\left(2n-2k\\right)!\\left(2k+1\\right)!}\\right)\\left(1-x^{2}\\right)^{\\left(n-k\\right)}\\cdot x^{2k} $$"
   ]
  },
  {
   "cell_type": "code",
   "execution_count": null,
   "metadata": {},
   "outputs": [],
   "source": [
    "a = (1/15)*((-1)^k)*(math.factorial(2*n + 1)/(math.factorial(2*k + 1)*math.factorial(-1*2*k + 2*n)))"
   ]
  }
 ],
 "metadata": {
  "kernelspec": {
   "display_name": "Python 3.10.4 64-bit",
   "language": "python",
   "name": "python3"
  },
  "language_info": {
   "name": "python",
   "version": "3.10.4"
  },
  "orig_nbformat": 4,
  "vscode": {
   "interpreter": {
    "hash": "916dbcbb3f70747c44a77c7bcd40155683ae19c65e1c03b4aa3499c5328201f1"
   }
  }
 },
 "nbformat": 4,
 "nbformat_minor": 2
}
